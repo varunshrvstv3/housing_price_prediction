{
 "cells": [
  {
   "cell_type": "markdown",
   "id": "introduction",
   "metadata": {},
   "source": [
    "# California Housing Price Prediction\n",
    "\n",
    "This notebook demonstrates a machine learning pipeline to predict median housing prices in California, using the California Housing dataset from scikit-learn. The process involves data loading, exploratory data analysis (EDA), data preprocessing (outlier handling, feature engineering, feature scaling), and training various regression models to find the best performing one.\n",
    "\n",
    "## Table of Contents\n",
    "1.  [Setup and Data Loading](#setup-and-data-loading)\n",
    "2.  [Exploratory Data Analysis (EDA)](#exploratory-data-analysis-eda)\n",
    "3.  [Data Preprocessing](#data-preprocessing)\n",
    "4.  [Model Training and Evaluation](#model-training-and-evaluation)\n",
    "5.  [Conclusion and Visualization](#conclusion-and-visualization)"
   ]
  },
  {
   "cell_type": "markdown",
   "id": "setup-and-data-loading",
   "metadata": {},
   "source": [
    "## 1. Setup and Data Loading\n",
    "\n",
    "We begin by importing all necessary libraries and loading the California Housing dataset. The dataset includes features such as median income, house age, number of rooms, and geographical coordinates, with the target variable being the median house value."
   ]
  },
  {
   "cell_type": "code",
   "execution_count": 248,
   "id": "imports",
   "metadata": {},
   "outputs": [],
   "source": [
    "# Import necessary libraries\n",
    "import numpy as np\n",
    "import pandas as pd\n",
    "import seaborn as sns\n",
    "import matplotlib.pyplot as plt\n",
    "from sklearn.datasets import fetch_california_housing\n",
    "from sklearn.model_selection import train_test_split, GridSearchCV\n",
    "from sklearn.preprocessing import StandardScaler\n",
    "from sklearn.linear_model import LinearRegression\n",
    "from sklearn.tree import DecisionTreeRegressor\n",
    "from sklearn.ensemble import RandomForestRegressor\n",
    "from xgboost import XGBRegressor\n",
    "from sklearn.metrics import mean_absolute_error, mean_squared_error, r2_score"
   ]
  },
  {
   "cell_type": "code",
   "execution_count": 249,
   "id": "load_data",
   "metadata": {},
   "outputs": [],
   "source": [
    "# Get the data from sklearn.datasets library\n",
    "california_housing = fetch_california_housing()\n",
    "\n",
    "# Create a DataFrame from the dataset features\n",
    "df = pd.DataFrame.from_records(california_housing.data, columns=california_housing.feature_names)\n",
    "\n",
    "# Assign the target variable (Median House Value)\n",
    "y = california_housing.target\n",
    "df[california_housing.target_names[0]] = california_housing.target\n",
    "\n",
    "print(\"DataFrame Head:\")\n",
    "print(df.head())\n",
    "print(\"\\nDataFrame Info:\")\n",
    "df.info()\n",
    "print(\"\\nDataFrame Description:\")\n",
    "print(df.describe())"
   ]
  },
  {
   "cell_type": "code",
   "execution_count": 250,
   "id": "split_data",
   "metadata": {},
   "outputs": [
    {
     "name": "stdout",
     "output_type": "stream",
     "text": [
      "Shape of X_train: (16512, 8)\n",
      "Shape of X_test: (4128, 8)\n",
      "Shape of y_train: (16512,)\n",
      "Shape of y_test: (4128,)\n"
     ]
    }
   ],
   "source": [
    "# Splitting the dataset into training and testing data\n",
    "# We'll use 80% for training and 20% for testing\n",
    "X_train, X_test, y_train, y_test = train_test_split(df.drop('MedHouseVal', axis=1), df['MedHouseVal'], test_size=0.2, random_state=42)\n",
    "\n",
    "# Create DataFrames from the split data for easier manipulation later\n",
    "df_train = pd.DataFrame(data=X_train, columns=california_housing.feature_names)\n",
    "df_test = pd.DataFrame(data=X_test, columns=california_housing.feature_names)\n",
    "\n",
    "print(f\"Shape of X_train: {X_train.shape}\")\n",
    "print(f\"Shape of X_test: {X_test.shape}\")\n",
    "print(f\"Shape of y_train: {y_train.shape}\")\n",
    "print(f\"Shape of y_test: {y_test.shape}\")"
   ]
  },
  {
   "cell_type": "markdown",
   "id": "eda",
   "metadata": {},
   "source": [
    "## 2. Exploratory Data Analysis (EDA)\n",
    "\n",
    "In this section, we'll explore the data distribution and relationships between features. This helps us understand the dataset's characteristics and identify potential issues like outliers."
   ]
  },
  {
   "cell_type": "markdown",
   "id": "data_distribution",
   "metadata": {},
   "source": [
    "### Data Distribution\n",
    "Let's visualize the distribution of all features in the training data using histograms. This provides a quick overview of their ranges and skewness."
   ]
  },
  {
   "cell_type": "code",
   "execution_count": 252,
   "id": "histograms",
   "metadata": {},
   "outputs": [
    {
     "data": {
      "text/plain": [
       "array([[<Axes: title={'center': 'MedInc'}>,\n",
       "        <Axes: title={'center': 'HouseAge'}>,\n",
       "        <Axes: title={'center': 'AveRooms'}>],\n",
       "       [<Axes: title={'center': 'AveBedrms'}>,\n",
       "        <Axes: title={'center': 'Population'}>,\n",
       "        <Axes: title={'center': 'AveOccup'}>],\n",
       "       [<Axes: title={'center': 'Latitude'}>,\n",
       "        <Axes: title={'center': 'Longitude'}>, <Axes: >]], dtype=object)"
      ]
     },
     "execution_count": null,
     "metadata": {},
     "output_type": "execute_result"
    },
    {
     "data": {
      "image/png": "[encoded data removed]",
      "text/plain": [
       "<Figure size 1500x1000 with 9 Axes>"
      ]
     },
     "metadata": {},
     "output_type": "display_data"
    }
   ],
   "source": [
    "df_train.hist(bins=30, figsize=(15, 10))\n",
    "plt.suptitle('Distribution of Features in Training Data', y=1.02, fontsize=16)\n",
    "plt.tight_layout()\n",
    "plt.show()"
   ]
  },
  {
   "cell_type": "markdown",
   "id": "geospatial_distribution",
   "metadata": {},
   "source": [
    "### Geospatial Distribution of House Values\n",
    "Visualizing the median house value across geographical coordinates (Latitude and Longitude) can reveal spatial patterns."
   ]
  },
  {
   "cell_type": "code",
   "execution_count": 253,
   "id": "scatter_plot_geo",
   "metadata": {},
   "outputs": [
    {
     "data": {
      "text/plain": [
       "<Axes: xlabel='Longitude', ylabel='Latitude'>"
      ]
     },
     "execution_count": null,
     "metadata": {},
     "output_type": "execute_result"
    },
    {
     "data": {
      "image/png": "[encoded data removed]",
      "text/plain": [
       "<Figure size 640x480 with 1 Axes>"
      ]
     },
     "metadata": {},
     "output_type": "display_data"
    }
   ],
   "source": [
    "plt.figure(figsize=(10, 8))\n",
    "sns.scatterplot(data=df, x=\"Longitude\", y=\"Latitude\", hue='MedHouseVal', alpha=0.5, palette='viridis', s=20)\n",
    "plt.title('Median House Value by Location in California', fontsize=16)\n",
    "plt.xlabel('Longitude', fontsize=12)\n",
    "plt.ylabel('Latitude', fontsize=12)\n",
    "plt.show()"
   ]
  },
  {
   "cell_type": "markdown",
   "id": "correlation_analysis",
   "metadata": {},
   "source": [
    "### Correlation Analysis\n",
    "Checking the correlation matrix of the training data. Some features exhibit a negative correlation, meaning they are inversely proportional. For instance, 'HouseAge' and 'MedInc' have a correlation value of -0.12, indicating that areas with higher median incomes tend to have newer houses."
   ]
  },
  {
   "cell_type": "code",
   "execution_count": 254,
   "id": "correlation_matrix",
   "metadata": {},
   "outputs": [
    {
     "name": "stdout",
     "output_type": "stream",
     "text": [
      "              MedInc  HouseAge  AveRooms  AveBedrms  Population  AveOccup  \\\n",
      "MedInc      1.000000 -0.121711  0.336013  -0.072550    0.004122  0.022061   \n",
      "HouseAge   -0.121711  1.000000 -0.160892  -0.087983   -0.292283  0.016245   \n",
      "AveRooms    0.336013 -0.160892  1.000000   0.836163   -0.073733 -0.004922   \n",
      "AveBedrms  -0.072550 -0.087983  0.836163   1.000000   -0.071267 -0.006035   \n",
      "Population  0.004122 -0.292283 -0.073733  -0.071267    1.000000  0.072330   \n",
      "AveOccup    0.022061  0.016245 -0.004922  -0.006035    0.072330  1.000000   \n",
      "Latitude   -0.076571  0.005296  0.110695   0.073161   -0.102499  0.005837   \n",
      "Longitude  -0.017040 -0.101818 -0.029339   0.016647    0.094276 -0.000598   \n",
      "\n",
      "            Latitude  Longitude  \n",
      "MedInc     -0.076571  -0.017040  \n",
      "HouseAge    0.005296  -0.101818  \n",
      "AveRooms    0.110695  -0.029339  \n",
      "AveBedrms   0.073161   0.016647  \n",
      "Population -0.102499   0.094276  \n",
      "AveOccup    0.005837  -0.000598  \n",
      "Latitude    1.000000  -0.924485  \n",
      "Longitude  -0.924485   1.000000  \n"
     ]
    },
    {
     "data": {
      "text/plain": [
       "<Axes: >"
      ]
     },
     "execution_count": null,
     "metadata": {},
     "output_type": "execute_result"
    },
    {
     "data": {
      "image/png": "[encoded data removed]",
      "text/plain": [
       "<Figure size 640x480 with 2 Axes>"
      ]
     },
     "metadata": {},
     "output_type": "display_data"
    }
   ],
   "source": [
    "print(df_train.corr())\n",
    "\n",
    "plt.figure(figsize=(10, 8))\n",
    "sns.heatmap(df_train.corr(), annot=True, cmap='coolwarm', fmt=\".2f\")\n",
    "plt.title('Correlation Matrix of Training Data', fontsize=16)\n",
    "plt.show()"
   ]
  },
  {
   "cell_type": "markdown",
   "id": "data_preprocessing",
   "metadata": {},
   "source": [
    "## 3. Data Preprocessing\n",
    "\n",
    "This section focuses on preparing the data for model training. This includes handling outliers, engineering new features, and scaling existing features."
   ]
  },
  {
   "cell_type": "markdown",
   "id": "outlier_handling",
   "metadata": {},
   "source": [
    "### Outlier Handling\n",
    "We'll check for outliers in the training data using descriptive statistics. Linear regression models are highly sensitive to outliers, which can degrade their performance.\n",
    "\n",
    "To mitigate this, we'll implement a clipping strategy. We will use the 95th percentile as the upper limit and the 5th percentile as the lower limit. Typical percentile values used for clipping include 99-1, 95-5, and 90-10."
   ]
  },
  {
   "cell_type": "code",
   "execution_count": 255,
   "id": "describe_before_clip",
   "metadata": {},
   "outputs": [
    {
     "data": {
      "text/html": [
       "<div>\n",
       "<style scoped>\n",
       "    .dataframe tbody tr th:only-of-type {\n",
       "        vertical-align: middle;\n",
       "    }\n",
       "\n",
       "    .dataframe tbody tr th {\n",
       "        vertical-align: top;\n",
       "    }\n",
       "\n",
       "    .dataframe thead th {\n",
       "        text-align: right;\n",
       "    }\n",
       "</style>\n",
       "<table border=\"1\" class=\"dataframe\">\n",
       "  <thead>\n",
       "    <tr style=\"text-align: right;\">\n",
       "      <th></th>\n",
       "      <th>MedInc</th>\n",
       "      <th>HouseAge</th>\n",
       "      <th>AveRooms</th>\n",
       "      <th>AveBedrms</th>\n",
       "      <th>Population</th>\n",
       "      <th>AveOccup</th>\n",
       "      <th>Latitude</th>\n",
       "      <th>Longitude</th>\n",
       "    </tr>\n",
       "  </thead>\n",
       "  <tbody>\n",
       "    <tr>\n",
       "      <th>count</th>\n",
       "      <td>16512.000000</td>\n",
       "      <td>16512.000000</td>\n",
       "      <td>16512.000000</td>\n",
       "      <td>16512.000000</td>\n",
       "      <td>16512.000000</td>\n",
       "      <td>16512.000000</td>\n",
       "      <td>16512.000000</td>\n",
       "      <td>16512.000000</td>\n",
       "    </tr>\n",
       "    <tr>\n",
       "      <th>mean</th>\n",
       "      <td>3.880754</td>\n",
       "      <td>28.608285</td>\n",
       "      <td>5.435235</td>\n",
       "      <td>1.096685</td>\n",
       "      <td>1426.453004</td>\n",
       "      <td>3.096961</td>\n",
       "      <td>35.643149</td>\n",
       "      <td>-119.582290</td>\n",
       "    </tr>\n",
       "    <tr>\n",
       "      <th>std</th>\n",
       "      <td>1.904294</td>\n",
       "      <td>12.602499</td>\n",
       "      <td>2.387375</td>\n",
       "      <td>0.433215</td>\n",
       "      <td>1137.056380</td>\n",
       "      <td>11.578744</td>\n",
       "      <td>2.136665</td>\n",
       "      <td>2.005654</td>\n",
       "    </tr>\n",
       "    <tr>\n",
       "      <th>min</th>\n",
       "      <td>0.499900</td>\n",
       "      <td>1.000000</td>\n",
       "      <td>0.888889</td>\n",
       "      <td>0.333333</td>\n",
       "      <td>3.000000</td>\n",
       "      <td>0.692308</td>\n",
       "      <td>32.550000</td>\n",
       "      <td>-124.350000</td>\n",
       "    </tr>\n",
       "    <tr>\n",
       "      <th>25%</th>\n",
       "      <td>2.566700</td>\n",
       "      <td>18.000000</td>\n",
       "      <td>4.452055</td>\n",
       "      <td>1.006508</td>\n",
       "      <td>789.000000</td>\n",
       "      <td>2.428799</td>\n",
       "      <td>33.930000</td>\n",
       "      <td>-121.810000</td>\n",
       "    </tr>\n",
       "    <tr>\n",
       "      <th>50%</th>\n",
       "      <td>3.545800</td>\n",
       "      <td>29.000000</td>\n",
       "      <td>5.235874</td>\n",
       "      <td>1.049286</td>\n",
       "      <td>1167.000000</td>\n",
       "      <td>2.817240</td>\n",
       "      <td>34.260000</td>\n",
       "      <td>-118.510000</td>\n",
       "    </tr>\n",
       "    <tr>\n",
       "      <th>75%</th>\n",
       "      <td>4.773175</td>\n",
       "      <td>37.000000</td>\n",
       "      <td>6.061037</td>\n",
       "      <td>1.100348</td>\n",
       "      <td>1726.000000</td>\n",
       "      <td>3.280000</td>\n",
       "      <td>37.720000</td>\n",
       "      <td>-118.010000</td>\n",
       "    </tr>\n",
       "    <tr>\n",
       "      <th>max</th>\n",
       "      <td>15.000100</td>\n",
       "      <td>52.000000</td>\n",
       "      <td>141.909091</td>\n",
       "      <td>25.636364</td>\n",
       "      <td>35682.000000</td>\n",
       "      <td>1243.333333</td>\n",
       "      <td>41.950000</td>\n",
       "      <td>-114.310000</td>\n",
       "    </tr>\n",
       "  </tbody>\n",
       "</table>\n",
       "</div>"
      ],
      "text/plain": [
       "             MedInc      HouseAge      AveRooms     AveBedrms    Population  \\\n",
       "count  16512.000000  16512.000000  16512.000000  16512.000000  16512.000000   \n",
       "mean       3.880754     28.608285      5.435235      1.096685   1426.453004   \n",
       "std        1.904294     12.602499      2.387375      0.433215   1137.056380   \n",
       "min        0.499900      1.000000      0.888889      0.333333      3.000000   \n",
       "25%        2.566700     18.000000      4.452055      1.006508    789.000000   \n",
       "50%        3.545800     29.000000      5.235874      1.049286   1167.000000   \n",
       "75%        4.773175     37.000000      6.061037      1.100348   1726.000000   \n",
       "max       15.000100     52.000000    141.909091     25.636364  35682.000000   \n",
       "\n",
       "           AveOccup      Latitude     Longitude  \n",
       "count  16512.000000  16512.000000  16512.000000  \n",
       "mean       3.096961     35.643149   -119.582290  \n",
       "std       11.578744      2.136665      2.005654  \n",
       "min        0.692308     32.550000   -124.350000  \n",
       "25%        2.428799     33.930000   -121.810000  \n",
       "50%        2.817240     34.260000   -118.510000  \n",
       "75%        3.280000     37.720000   -118.010000  \n",
       "max     1243.333333     41.950000   -114.310000  "
      ]
     },
     "execution_count": null,
     "metadata": {},
     "output_type": "execute_result"
    }
   ],
   "source": [
    "df_train.describe()\n"
   ]
  },
  {
   "cell_type": "code",
   "execution_count": 256,
   "id": "clip_outlier_function",
   "metadata": {},
   "outputs": [],
   "source": [
    "def clip_outlier(df_input, features, lower_quantile=0.05, upper_quantile=0.95):\n",
    "    \"\"\"\n",
    "    Clips outliers in specified DataFrame features using quantile-based limits.\n",
    "\n",
    "    Args:\n",
    "        df_input (pd.DataFrame): The input DataFrame.\n",
    "        features (list): A list of column names to clip outliers from.\n",
    "        lower_quantile (float): The lower quantile to use as the lower limit (default: 0.05).\n",
    "        upper_quantile (float): The upper quantile to use as the upper limit (default: 0.95).\n",
    "\n",
    "    Returns:\n",
    "        pd.DataFrame: A new DataFrame with clipped features.\n",
    "    \"\"\"\n",
    "    df_output = df_input.copy()\n",
    "    for feature in features:\n",
    "        upper_limit = df_output[feature].quantile(upper_quantile)\n",
    "        lower_limit = df_output[feature].quantile(lower_quantile)\n",
    "        df_output[f'{feature}_capped_quantile'] = np.where(\n",
    "            df_output[feature] > upper_limit,\n",
    "            upper_limit,\n",
    "            np.where(\n",
    "                df_output[feature] < lower_limit,\n",
    "                lower_limit,\n",
    "                df_output[feature]\n",
    "            )\n",
    "        )\n",
    "    return df_output"
   ]
  },
  {
   "cell_type": "code",
   "execution_count": 257,
   "id": "apply_clip_outlier",
   "metadata": {},
   "outputs": [
    {
     "name": "stdout",
     "output_type": "stream",
     "text": [
      "DataFrame Description After Outlier Clipping (Training Data):\n"
     ]
    }
   ],
   "source": [
    "# Define features to clip\n",
    "clip_features = ['Population', 'MedInc', 'AveRooms', 'AveBedrms', 'AveOccup']\n",
    "\n",
    "# Apply clipping to both training and testing DataFrames\n",
    "df_train = clip_outlier(df_train, clip_features)\n",
    "df_test = clip_outlier(df_test, clip_features)\n",
    "\n",
    "print(\"DataFrame Description After Outlier Clipping (Training Data):\")\n",
    "print(df_train.describe())"
   ]
  },
  {
   "cell_type": "markdown",
   "id": "feature_engineering",
   "metadata": {},
   "source": [
    "### Feature Engineering\n",
    "We'll engineer two more features to potentially improve model performance:\n",
    "1.  **`AveBedrms_AveRooms_ratio`**: The ratio of the average number of bedrooms to the average number of rooms in a house. This can indicate the proportion of bedrooms to other living spaces.\n",
    "2.  **`AveRooms_AveOccup_ratio`**: The ratio of the average number of rooms to the average occupancy (number of people per household). This can be interpreted as \"rooms per person,\" offering insights into living space per individual."
   ]
  },
  {
   "cell_type": "code",
   "execution_count": 258,
   "id": "add_engineered_features",
   "metadata": {},
   "outputs": [
    {
     "name": "stdout",
     "output_type": "stream",
     "text": [
      "Correlation of AveBedrms_AveRooms_ratio with y_train:\n",
      "[[ 1.         -0.25741882]\n",
      " [-0.25741882  1.        ]]\n",
      "Correlation of AveRooms_AveOccup_ratio with y_train:\n",
      "[[ 1.         -0.03115971]\n",
      " [-0.03115971  1.        ]]\n"
     ]
    }
   ],
   "source": [
    "def add_engineered_features(df_input):\n",
    "    \"\"\"\n",
    "    Adds engineered features to the DataFrame.\n",
    "    Assumes capped_quantile features already exist.\n",
    "    \"\"\"\n",
    "    df_output = df_input.copy()\n",
    "    df_output['AveBedrms_AveRooms_ratio'] = df_output['AveBedrms_capped_quantile'] / df_output['AveRooms_capped_quantile']\n",
    "    df_output['AveRooms_AveOccup_ratio'] = df_output['AveRooms_capped_quantile'] / df_output['AveOccup_capped_quantile']\n",
    "    return df_output\n",
    "\n",
    "# Apply feature engineering\n",
    "df_train = add_engineered_features(df_train)\n",
    "df_test = add_engineered_features(df_test)\n",
    "\n",
    "# Check correlation of new features with the target\n",
    "print(\"Correlation of AveBedrms_AveRooms_ratio with y_train:\")\n",
    "print(np.corrcoef(df_train['AveBedrms_AveRooms_ratio'], y_train))\n",
    "\n",
    "print(\"Correlation of AveRooms_AveOccup_ratio with y_train:\")\n",
    "print(np.corrcoef(df_train['AveRooms_AveOccup_ratio'], y_train))\n",
    "\n",
    "print(\"\\nUpdated Training DataFrame Columns:\")\n",
    "print(df_train.columns)"
   ]
  },
  {
   "cell_type": "markdown",
   "id": "feature_selection",
   "metadata": {},
   "source": [
    "### Feature Selection and Scaling\n",
    "We select the relevant features, including our newly engineered ones and the capped original features, to form our final `X_train` and `X_test` datasets.\n",
    "\n",
    "Before applying regression models, especially those sensitive to feature magnitudes like Linear Regression, it's crucial to perform feature scaling. If features have vastly different scales, the model might incorrectly attribute more importance to features with larger values, leading to suboptimal training and overfitting. `StandardScaler` transforms our data such that it has a mean of 0 and a standard deviation of 1.\n",
    "\n",
    "It's worth noting that tree-based models like Decision Trees are generally insensitive to feature scaling because they make decisions based on impurity or entropy by splitting data based on feature values, not their magnitude."
   ]
  },
  {
   "cell_type": "code",
   "execution_count": 259,
   "id": "scaling_features",
   "metadata": {},
   "outputs": [
    {
     "data": {
      "text/html": [
       "<style>#sk-container-id-1 {\n",
       "  /* Definition of color scheme common for light and dark mode */\n",
       "  --sklearn-color-text: #000;\n",
       "  --sklearn-color-text-muted: #666;\n",
       "  --sklearn-color-line: gray;\n",
       "  /* Definition of color scheme for unfitted estimators */\n",
       "  --sklearn-color-unfitted-level-0: #fff5e6;\n",
       "  --sklearn-color-unfitted-level-1: #f6e4d2;\n",
       "  --sklearn-color-unfitted-level-2: #ffe0b3;\n",
       "  --sklearn-color-unfitted-level-3: chocolate;\n",
       "  /* Definition of color scheme for fitted estimators */\n",
       "  --sklearn-color-fitted-level-0: #f0f8ff;\n",
       "  --sklearn-color-fitted-level-1: #d4ebff;\n",
       "  --sklearn-color-fitted-level-2: #b3dbfd;\n",
       "  --sklearn-color-fitted-level-3: cornflowerblue;\n",
       "\n",
       "  /* Specific color for light theme */\n",
       "  --sklearn-color-text-on-default-background: var(--sg-text-color, var(--theme-code-foreground, var(--jp-content-font-color1, black)));\n",
       "  --sklearn-color-background: var(--sg-background-color, var(--theme-background, var(--jp-layout-color0, white)));\n",
       "  --sklearn-color-border-box: var(--sg-text-color, var(--theme-code-foreground, var(--jp-content-font-color1, black)));\n",
       "  --sklearn-color-icon: #696969;\n",
       "\n",
       "  @media (prefers-color-scheme: dark) {\n",
       "    /* Redefinition of color scheme for dark theme */\n",
       "    --sklearn-color-text-on-default-background: var(--sg-text-color, var(--theme-code-foreground, var(--jp-content-font-color1, white)));\n",
       "    --sklearn-color-background: var(--sg-background-color, var(--theme-background, var(--jp-layout-color0, #111)));\n",
       "    --sklearn-color-border-box: var(--sg-text-color, var(--theme-code-foreground, var(--jp-content-font-color1, white)));\n",
       "    --sklearn-color-icon: #878787;\n",
       "  }\n",
       "}\n",
       "\n",
       "#sk-container-id-1 {\n",
       "  color: var(--sklearn-color-text);\n",
       "}\n",
       "\n",
       "#sk-container-id-1 pre {\n",
       "  padding: 0;\n",
       "}\n",
       "\n",
       "#sk-container-id-1 input.sk-hidden--visually {\n",
       "  border: 0;\n",
       "  clip: rect(1px 1px 1px 1px);\n",
       "  clip: rect(1px, 1px, 1px, 1px);\n",
       "  height: 1px;\n",
       "  margin: -1px;\n",
       "  overflow: hidden;\n",
       "  padding: 0;\n",
       "  position: absolute;\n",
       "  width: 1px;\n",
       "}\n",
       "\n",
       "#sk-container-id-1 div.sk-dashed-wrapped {\n",
       "  border: 1px dashed var(--sklearn-color-line);\n",
       "  margin: 0 0.4em 0.5em 0.4em;\n",
       "  box-sizing: border-box;\n",
       "  padding-bottom: 0.4em;\n",
       "  background-color: var(--sklearn-color-background);\n",
       "}\n",
       "\n",
       "#sk-container-id-1 div.sk-container {\n",
       "  /* jupyter's `normalize.less` sets `[hidden] { display: none; }`\n",
       "     but bootstrap.min.css set `[hidden] { display: none !important; }`\n",
       "     so we also need the `!important` here to be able to override the\n",
       "     default hidden behavior on the sphinx rendered scikit-learn.org.\n",
       "     See: https://github.com/scikit-learn/scikit-learn/issues/21755 */\n",
       "  display: inline-block !important;\n",
       "  position: relative;\n",
       "}\n",
       "\n",
       "#sk-container-id-1 div.sk-text-repr-fallback {\n",
       "  display: none;\n",
       "}\n",
       "\n",
       "div.sk-parallel-item,\n",
       "div.sk-serial,\n",
       "div.sk-item {\n",
       "  /* draw centered vertical line to link estimators */\n",
       "  background-image: linear-gradient(var(--sklearn-color-text-on-default-background), var(--sklearn-color-text-on-default-background));\n",
       "  background-size: 2px 100%;\n",
       "  background-repeat: no-repeat;\n",
       "  background-position: center center;\n",
       "}\n",
       "\n",
       "/* Parallel-specific style estimator block */\n",
       "\n",
       "#sk-container-id-1 div.sk-parallel-item::after {\n",
       "  content: \"\";\n",
       "  width: 100%;\n",
       "  border-bottom: 2px solid var(--sklearn-color-text-on-default-background);\n",
       "  flex-grow: 1;\n",
       "}\n",
       "\n",
       "#sk-container-id-1 div.sk-parallel {\n",
       "  display: flex;\n",
       "  align-items: stretch;\n",
       "  justify-content: center;\n",
       "  background-color: var(--sklearn-color-background);\n",
       "  position: relative;\n",
       "}\n",
       "\n",
       "#sk-container-id-1 div.sk-parallel-item {\n",
       "  display: flex;\n",
       "  flex-direction: column;\n",
       "}\n",
       "\n",
       "#sk-container-id-1 div.sk-parallel-item:first-child::after {\n",
       "  align-self: flex-end;\n",
       "  width: 50%;\n",
       "}\n",
       "\n",
       "#sk-container-id-1 div.sk-parallel-item:last-child::after {\n",
       "  align-self: flex-start;\n",
       "  width: 50%;\n",
       "}\n",
       "\n",
       "#sk-container-id-1 div.sk-parallel-item:only-child::after {\n",
       "  width: 0;\n",
       "}\n",
       "\n",
       "/* Serial-specific style estimator block */\n",
       "\n",
       "#sk-container-id-1 div.sk-serial {\n",
       "  display: flex;\n",
       "  flex-direction: column;\n",
       "  align-items: center;\n",
       "  background-color: var(--sklearn-color-background);\n",
       "  padding-right: 1em;\n",
       "  padding-left: 1em;\n",
       "}\n",
       "\n",
       "\n",
       "/* Toggleable style: style used for estimator/Pipeline/ColumnTransformer box that is\n",
       "clickable and can be expanded/collapsed.\n",
       "- Pipeline and ColumnTransformer use this feature and define the default style\n",
       "- Estimators will overwrite some part of the style using the `sk-estimator` class\n",
       "*/\n",
       "\n",
       "/* Pipeline and ColumnTransformer style (default) */\n",
       "\n",
       "#sk-container-id-1 div.sk-toggleable {\n",
       "  /* Default theme specific background. It is overwritten whether we have a\n",
       "  specific estimator or a Pipeline/ColumnTransformer */\n",
       "  background-color: var(--sklearn-color-background);\n",
       "}\n",
       "\n",
       "/* Toggleable label */\n",
       "#sk-container-id-1 label.sk-toggleable__label {\n",
       "  cursor: pointer;\n",
       "  display: flex;\n",
       "  width: 100%;\n",
       "  margin-bottom: 0;\n",
       "  padding: 0.5em;\n",
       "  box-sizing: border-box;\n",
       "  text-align: center;\n",
       "  align-items: start;\n",
       "  justify-content: space-between;\n",
       "  gap: 0.5em;\n",
       "}\n",
       "\n",
       "#sk-container-id-1 label.sk-toggleable__label .caption {\n",
       "  font-size: 0.6rem;\n",
       "  font-weight: lighter;\n",
       "  color: var(--sklearn-color-text-muted);\n",
       "}\n",
       "\n",
       "#sk-container-id-1 label.sk-toggleable__label-arrow:before {\n",
       "  /* Arrow on the left of the label */\n",
       "  content: \"â–¸\";\n",
       "  float: left;\n",
       "  margin-right: 0.25em;\n",
       "  color: var(--sklearn-color-icon);\n",
       "}\n",
       "\n",
       "#sk-container-id-1 label.sk-toggleable__label-arrow:hover:before {\n",
       "  color: var(--sklearn-color-text);\n",
       "}\n",
       "\n",
       "/* Toggleable content - dropdown */\n",
       "\n",
       "#sk-container-id-1 div.sk-toggleable__content {\n",
       "  max-height: 0;\n",
       "  max-width: 0;\n",
       "  overflow: hidden;\n",
       "  text-align: left;\n",
       "  /* unfitted */\n",
       "  background-color: var(--sklearn-color-unfitted-level-0);\n",
       "}\n",
       "\n",
       "#sk-container-id-1 div.sk-toggleable__content.fitted {\n",
       "  /* fitted */\n",
       "  background-color: var(--sklearn-color-fitted-level-0);\n",
       "}\n",
       "\n",
       "#sk-container-id-1 div.sk-toggleable__content pre {\n",
       "  margin: 0.2em;\n",
       "  border-radius: 0.25em;\n",
       "  color: var(--sklearn-color-text);\n",
       "  /* unfitted */\n",
       "  background-color: var(--sklearn-color-unfitted-level-0);\n",
       "}\n",
       "\n",
       "#sk-container-id-1 div.sk-toggleable__content.fitted pre {\n",
       "  /* unfitted */\n",
       "  background-color: var(--sklearn-color-fitted-level-0);\n",
       "}\n",
       "\n",
       "#sk-container-id-1 input.sk-toggleable__control:checked~div.sk-toggleable__content {\n",
       "  /* Expand drop-down */\n",
       "  max-height: 200px;\n",
       "  max-width: 100%;\n",
       "  overflow: auto;\n",
       "}\n",
       "\n",
       "#sk-container-id-1 input.sk-toggleable__control:checked~label.sk-toggleable__label-arrow:before {\n",
       "  content: \"â–¾\";\n",
       "}\n",
       "\n",
       "/* Pipeline/ColumnTransformer-specific style */\n",
       "\n",
       "#sk-container-id-1 div.sk-label input.sk-toggleable__control:checked~label.sk-toggleable__label {\n",
       "  color: var(--sklearn-color-text);\n",
       "  background-color: var(--sklearn-color-unfitted-level-2);\n",
       "}\n",
       "\n",
       "#sk-container-id-1 div.sk-label.fitted input.sk-toggleable__control:checked~label.sk-toggleable__label {\n",
       "  background-color: var(--sklearn-color-fitted-level-2);\n",
       "}\n",
       "\n",
       "/* Estimator-specific style */\n",
       "\n",
       "/* Colorize estimator box */\n",
       "#sk-container-id-1 div.sk-estimator input.sk-toggleable__control:checked~label.sk-toggleable__label {\n",
       "  /* unfitted */\n",
       "  background-color: var(--sklearn-color-unfitted-level-2);\n",
       "}\n",
       "\n",
       "#sk-container-id-1 div.sk-estimator.fitted input.sk-toggleable__control:checked~label.sk-toggleable__label {\n",
       "  /* fitted */\n",
       "  background-color: var(--sklearn-color-fitted-level-2);\n",
       "}\n",
       "\n",
       "#sk-container-id-1 div.sk-label label.sk-toggleable__label,\n",
       "#sk-container-id-1 div.sk-label label {\n",
       "  /* The background is the default theme color */\n",
       "  color: var(--sklearn-color-text-on-default-background);\n",
       "}\n",
       "\n",
       "/* On hover, darken the color of the background */\n",
       "#sk-container-id-1 div.sk-label:hover label.sk-toggleable__label {\n",
       "  color: var(--sklearn-color-text);\n",
       "  background-color: var(--sklearn-color-unfitted-level-2);\n",
       "}\n",
       "\n",
       "/* Label box, darken color on hover, fitted */\n",
       "#sk-container-id-1 div.sk-label.fitted:hover label.sk-toggleable__label.fitted {\n",
       "  color: var(--sklearn-color-text);\n",
       "  background-color: var(--sklearn-color-fitted-level-2);\n",
       "}\n",
       "\n",
       "/* Estimator label */\n",
       "\n",
       "#sk-container-id-1 div.sk-label label {\n",
       "  font-family: monospace;\n",
       "  font-weight: bold;\n",
       "  display: inline-block;\n",
       "  line-height: 1.2em;\n",
       "}\n",
       "\n",
       "#sk-container-id-1 div.sk-label-container {\n",
       "  text-align: center;\n",
       "}\n",
       "\n",
       "/* Estimator-specific */\n",
       "#sk-container-id-1 div.sk-estimator {\n",
       "  font-family: monospace;\n",
       "  border: 1px dotted var(--sklearn-color-border-box);\n",
       "  border-radius: 0.25em;\n",
       "  box-sizing: border-box;\n",
       "  margin-bottom: 0.5em;\n",
       "  /* unfitted */\n",
       "  background-color: var(--sklearn-color-unfitted-level-0);\n",
       "}\n",
       "\n",
       "#sk-container-id-1 div.sk-estimator.fitted {\n",
       "  /* fitted */\n",
       "  background-color: var(--sklearn-color-fitted-level-0);\n",
       "}\n",
       "\n",
       "/* on hover */\n",
       "#sk-container-id-1 div.sk-estimator:hover {\n",
       "  /* unfitted */\n",
       "  background-color: var(--sklearn-color-unfitted-level-2);\n",
       "}\n",
       "\n",
       "#sk-container-id-1 div.sk-estimator.fitted:hover {\n",
       "  /* fitted */\n",
       "  background-color: var(--sklearn-color-fitted-level-2);\n",
       "}\n",
       "\n",
       "/* Specification for estimator info (e.g. \"i\" and \"?\") */\n",
       "\n",
       "/* Common style for \"i\" and \"?\" */\n",
       "\n",
       ".sk-estimator-doc-link,\n",
       "a:link.sk-estimator-doc-link,\n",
       "a:visited.sk-estimator-doc-link {\n",
       "  float: right;\n",
       "  font-size: smaller;\n",
       "  line-height: 1em;\n",
       "  font-family: monospace;\n",
       "  background-color: var(--sklearn-color-background);\n",
       "  border-radius: 1em;\n",
       "  height: 1em;\n",
       "  width: 1em;\n",
       "  text-decoration: none !important;\n",
       "  margin-left: 0.5em;\n",
       "  text-align: center;\n",
       "  /* unfitted */\n",
       "  border: var(--sklearn-color-unfitted-level-1) 1pt solid;\n",
       "  color: var(--sklearn-color-unfitted-level-1);\n",
       "}\n",
       "\n",
       ".sk-estimator-doc-link.fitted,\n",
       "a:link.sk-estimator-doc-link.fitted,\n",
       "a:visited.sk-estimator-doc-link.fitted {\n",
       "  /* fitted */\n",
       "  border: var(--sklearn-color-fitted-level-1) 1pt solid;\n",
       "  color: var(--sklearn-color-fitted-level-1);\n",
       "}\n",
       "\n",
       "/* On hover */\n",
       "div.sk-estimator:hover .sk-estimator-doc-link:hover,\n",
       ".sk-estimator-doc-link:hover,\n",
       "div.sk-label-container:hover .sk-estimator-doc-link:hover,\n",
       ".sk-estimator-doc-link:hover {\n",
       "  /* unfitted */\n",
       "  background-color: var(--sklearn-color-unfitted-level-3);\n",
       "  color: var(--sklearn-color-background);\n",
       "  text-decoration: none;\n",
       "}\n",
       "\n",
       "div.sk-estimator.fitted:hover .sk-estimator-doc-link.fitted:hover,\n",
       ".sk-estimator-doc-link.fitted:hover,\n",
       "div.sk-label-container:hover .sk-estimator-doc-link.fitted:hover,\n",
       ".sk-estimator-doc-link.fitted:hover {\n",
       "  /* fitted */\n",
       "  background-color: var(--sklearn-color-fitted-level-3);\n",
       "  color: var(--sklearn-color-background);\n",
       "  text-decoration: none;\n",
       "}\n",
       "\n",
       "/* Span, style for the box shown on hovering the info icon */\n",
       ".sk-estimator-doc-link span {\n",
       "  display: none;\n",
       "  z-index: 9999;\n",
       "  position: relative;\n",
       "  font-weight: normal;\n",
       "  right: .2ex;\n",
       "  padding: .5ex;\n",
       "  margin: .5ex;\n",
       "  width: min-content;\n",
       "  min-width: 20ex;\n",
       "  max-width: 50ex;\n",
       "  color: var(--sklearn-color-text);\n",
       "  box-shadow: 2pt 2pt 4pt #999;\n",
       "  /* unfitted */\n",
       "  background: var(--sklearn-color-unfitted-level-0);\n",
       "  border: .5pt solid var(--sklearn-color-unfitted-level-3);\n",
       "}\n",
       "\n",
       ".sk-estimator-doc-link.fitted span {\n",
       "  /* fitted */\n",
       "  background: var(--sklearn-color-fitted-level-0);\n",
       "  border: var(--sklearn-color-fitted-level-3);\n",
       "}\n",
       "\n",
       ".sk-estimator-doc-link:hover span {\n",
       "  display: block;\n",
       "}\n",
       "\n",
       "/* \"?\"-specific style due to the `<a>` HTML tag */\n",
       "\n",
       "#sk-container-id-1 a.estimator_doc_link {\n",
       "  float: right;\n",
       "  font-size: 1rem;\n",
       "  line-height: 1em;\n",
       "  font-family: monospace;\n",
       "  background-color: var(--sklearn-color-background);\n",
       "  border-radius: 1rem;\n",
       "  height: 1rem;\n",
       "  width: 1rem;\n",
       "  text-decoration: none;\n",
       "  /* unfitted */\n",
       "  color: var(--sklearn-color-unfitted-level-1);\n",
       "  border: var(--sklearn-color-unfitted-level-1) 1pt solid;\n",
       "}\n",
       "\n",
       "#sk-container-id-1 a.estimator_doc_link.fitted {\n",
       "  /* fitted */\n",
       "  border: var(--sklearn-color-fitted-level-1) 1pt solid;\n",
       "  color: var(--sklearn-color-fitted-level-1);\n",
       "}\n",
       "\n",
       "/* On hover */\n",
       "#sk-container-id-1 a.estimator_doc_link:hover {\n",
       "  /* unfitted */\n",
       "  background-color: var(--sklearn-color-unfitted-level-3);\n",
       "  color: var(--sklearn-color-background);\n",
       "  text-decoration: none;\n",
       "}\n",
       "\n",
       "#sk-container-id-1 a.estimator_doc_link.fitted:hover {\n",
       "  /* fitted */\n",
       "  background-color: var(--sklearn-color-fitted-level-3);\n",
       "}\n",
       "</style><div id=\"sk-container-id-1\" class=\"sk-top-container\"><div class=\"sk-text-repr-fallback\"><pre>StandardScaler()</pre><b>In a Jupyter environment, please rerun this cell to show the HTML representation or trust the notebook. <br />On GitHub, the HTML representation is unable to render, please try loading this page with nbviewer.org.</b></div><div class=\"sk-container\" hidden><div class=\"sk-item\"><div class=\"sk-estimator fitted sk-toggleable\"><input class=\"sk-toggleable__control sk-hidden--visually\" id=\"sk-estimator-id-1\" type=\"checkbox\" checked><label for=\"sk-estimator-id-1\" class=\"sk-toggleable__label fitted sk-toggleable__label-arrow\"><div><div>StandardScaler</div></div><div><a class=\"sk-estimator-doc-link fitted\" rel=\"noreferrer\" target=\"_blank\" href=\"https://scikit-learn.org/1.6/modules/generated/sklearn.preprocessing.StandardScaler.html\">?<span>Documentation for StandardScaler</span></a><span class=\"sk-estimator-doc-link fitted\">i<span>Fitted</span></span></div></label><div class=\"sk-toggleable__content fitted\"><pre>StandardScaler()</pre></div> </div></div></div></div>"
      ],
      "text/plain": [
       "StandardScaler()"
      ]
     },
     "execution_count": null,
     "metadata": {},
     "output_type": "execute_result"
    }
   ],
   "source": [
    "# Define the list of features to be used in the models. These include capped and engineered features.\n",
    "features = ['MedInc_capped_quantile', 'Latitude', 'Longitude', \n",
    "            'AveBedrms_AveRooms_ratio', 'AveRooms_AveOccup_ratio', \n",
    "            'HouseAge', 'Population_capped_quantile']\n",
    "\n",
    "X_train_processed = df_train[features].values\n",
    "X_test_processed = df_test[features].values\n",
    "\n",
    "# Initialize StandardScaler\n",
    "scaler = StandardScaler()\n",
    "\n",
    "# Fit on training data and transform both training and testing data\n",
    "X_train_scaled = scaler.fit_transform(X_train_processed)\n",
    "X_test_scaled = scaler.transform(X_test_processed)\n",
    "\n",
    "print(scaler)"
   ]
  },
  {
   "cell_type": "markdown",
   "id": "model_training",
   "metadata": {},
   "source": [
    "## 4. Model Training and Evaluation\n",
    "\n",
    "We will train and evaluate several regression models to predict housing prices. For each model, we'll report Mean Absolute Error (MAE), Mean Squared Error (MSE), and R-squared ($R^2$). A higher R-squared value indicates a better fit of the model to the data."
   ]
  },
  {
   "cell_type": "code",
   "execution_count": 260,
   "id": "evaluate_model_function",
   "metadata": {},
   "outputs": [],
   "source": [
    "def evaluate_model(model, X_train, y_train, X_test, y_test, param_grid=None):\n",
    "    \"\"\"\n",
    "    Trains and evaluates a given regression model. Supports GridSearchCV for hyperparameter tuning.\n",
    "\n",
    "    Args:\n",
    "        model (estimator): The scikit-learn regressor model to train.\n",
    "        X_train (array-like): Scaled training features.\n",
    "        y_train (array-like): Training target.\n",
    "        X_test (array-like): Scaled testing features.\n",
    "        y_test (array-like): Testing target.\n",
    "        param_grid (dict, optional): Dictionary of hyperparameters to tune with GridSearchCV. Defaults to None.\n",
    "\n",
    "    Returns:\n",
    "        tuple: (best_estimator, predictions, mae, mse, r2)\n",
    "    \"\"\"\n",
    "    if param_grid:\n",
    "        grid_search = GridSearchCV(model, param_grid, cv=3, n_jobs=-1, verbose=0)\n",
    "        grid_search.fit(X_train, y_train)\n",
    "        best_estimator = grid_search.best_estimator_\n",
    "        print(f\"Best parameters for {model.__class__.__name__}: {grid_search.best_params_}\")\n",
    "    else:\n",
    "        best_estimator = model\n",
    "        best_estimator.fit(X_train, y_train)\n",
    "    \n",
    "    predictions = best_estimator.predict(X_test)\n",
    "    \n",
    "    mae = mean_absolute_error(y_test, predictions)\n",
    "    mse = mean_squared_error(y_test, predictions)\n",
    "    r2 = r2_score(y_test, predictions)\n",
    "    \n",
    "    return best_estimator, predictions, mae, mse, r2"
   ]
  },
  {
   "cell_type": "markdown",
   "id": "linear_regression_model",
   "metadata": {},
   "source": [
    "### a. Linear Regression"
   ]
  },
  {
   "cell_type": "code",
   "execution_count": 261,
   "id": "run_linear_regression",
   "metadata": {},
   "outputs": [
    {
     "name": "stdout",
     "output_type": "stream",
     "text": [
      "Linear Regression Results:\n",
      "Mean Absolute Error (MAE): 0.4897401032906702\n",
      "Mean Squared Error (MSE): 0.4459624822936078\n",
      "R-squared (R2): 0.6596768721073093\n"
     ]
    }
   ],
   "source": [
    "lr_model = LinearRegression(fit_intercept=True)\n",
    "lr_best_estimator, lr_predictions, lr_mae, lr_mse, lr_r2 = evaluate_model(lr_model, X_train_scaled, y_train, X_test_scaled, y_test)\n",
    "\n",
    "print(\"Linear Regression Results:\")\n",
    "print(f\"Mean Absolute Error (MAE): {lr_mae}\")\n",
    "print(f\"Mean Squared Error (MSE): {lr_mse}\")\n",
    "print(f\"R-squared (R2): {lr_r2}\")"
   ]
  },
  {
   "cell_type": "markdown",
   "id": "decision_tree_model",
   "metadata": {},
   "source": [
    "### b. Decision Tree Regressor\n",
    "We use `GridSearchCV` to find the optimal hyperparameters for our Decision Tree Regressor. Note that Decision Trees are less sensitive to feature scaling, but scaling is still applied for consistency in the pipeline."
   ]
  },
  {
   "cell_type": "code",
   "execution_count": 262,
   "id": "run_decision_tree",
   "metadata": {},
   "outputs": [
    {
     "name": "stdout",
     "output_type": "stream",
     "text": [
      "Best parameters for DecisionTreeRegressor: {'max_depth': 10, 'min_samples_leaf': 5, 'min_samples_split': 2}\n",
      "Decision Tree Regressor Results:\n",
      "Mean Absolute Error (MAE): 0.43189922182861074\n",
      "Mean Squared Error (MSE): 0.41212809475113166\n",
      "R-squared (R2): 0.6854965880160752\n"
     ]
    }
   ],
   "source": [
    "dt_model = DecisionTreeRegressor(random_state=42)\n",
    "dt_param_grid = {\n",
    "    \"max_depth\": [3, 5, 10],\n",
    "    \"min_samples_split\": [2, 5, 10],\n",
    "    \"min_samples_leaf\": [1, 2, 3, 4, 5]\n",
    "}\n",
    "dt_best_estimator, dt_predictions, dt_mae, dt_mse, dt_r2 = evaluate_model(dt_model, X_train_scaled, y_train, X_test_scaled, y_test, dt_param_grid)\n",
    "\n",
    "print(\"Decision Tree Regressor Results:\")\n",
    "print(f\"Mean Absolute Error (MAE): {dt_mae}\")\n",
    "print(f\"Mean Squared Error (MSE): {dt_mse}\")\n",
    "print(f\"R-squared (R2): {dt_r2}\")"
   ]
  },
  {
   "cell_type": "markdown",
   "id": "random_forest_model",
   "metadata": {},
   "source": [
    "### c. Random Forest Regressor\n",
    "Random Forests, an ensemble of Decision Trees, often provide improved accuracy and robustness. We also use `GridSearchCV` for hyperparameter tuning here."
   ]
  },
  {
   "cell_type": "code",
   "execution_count": 263,
   "id": "run_random_forest",
   "metadata": {},
   "outputs": [
    {
     "name": "stdout",
     "output_type": "stream",
     "text": [
      "Best parameters for RandomForestRegressor: {'max_depth': 10, 'min_samples_leaf': 2, 'min_samples_split': 2}\n",
      "Random Forest Regressor Results:\n",
      "Mean Absolute Error (MAE): 0.38452772996033857\n",
      "Mean Squared Error (MSE): 0.32273071015358695\n",
      "R-squared (R2): 0.7537175679406422\n"
     ]
    }
   ],
   "source": [
    "rf_model = RandomForestRegressor(random_state=42, n_jobs=-1, n_estimators=100) # n_jobs=-1 uses all available CPU cores\n",
    "rf_param_grid = {\n",
    "    \"max_depth\": [3, 5, 10],\n",
    "    \"min_samples_split\": [2, 5, 10],\n",
    "    \"min_samples_leaf\": [1, 2, 5]\n",
    "}\n",
    "rf_best_estimator, rf_predictions, rf_mae, rf_mse, rf_r2 = evaluate_model(rf_model, X_train_scaled, y_train, X_test_scaled, y_test, rf_param_grid)\n",
    "\n",
    "print(\"Random Forest Regressor Results:\")\n",
    "print(f\"Mean Absolute Error (MAE): {rf_mae}\")\n",
    "print(f\"Mean Squared Error (MSE): {rf_mse}\")\n",
    "print(f\"R-squared (R2): {rf_r2}\")"
   ]
  },
  {
   "cell_type": "markdown",
   "id": "xgboost_model",
   "metadata": {},
   "source": [
    "### d. XGBoost Regressor\n",
    "XGBoost is a powerful gradient boosting framework known for its high performance in many machine learning tasks. It typically performs well with default parameters but can be further optimized."
   ]
  },
  {
   "cell_type": "code",
   "execution_count": 264,
   "id": "run_xgboost",
   "metadata": {},
   "outputs": [
    {
     "name": "stdout",
     "output_type": "stream",
     "text": [
      "XGBoost Regressor Results:\n",
      "Mean Absolute Error (MAE): 0.307848461431221\n",
      "Mean Squared Error (MSE): 0.2180799337088517\n",
      "R-squared (R2): 0.8335787244058696\n"
     ]
    }
   ],
   "source": [
    "xgb_model = XGBRegressor(random_state=42) # Using default parameters, but could be tuned with GridSearchCV\n",
    "xgb_best_estimator, xgb_predictions, xgb_mae, xgb_mse, xgb_r2 = evaluate_model(xgb_model, X_train_scaled, y_train, X_test_scaled, y_test)\n",
    "\n",
    "print(\"XGBoost Regressor Results:\")\n",
    "print(f\"Mean Absolute Error (MAE): {xgb_mae}\")\n",
    "print(f\"Mean Squared Error (MSE): {xgb_mse}\")\n",
    "print(f\"R-squared (R2): {xgb_r2}\")"
   ]
  },
  {
   "cell_type": "markdown",
   "id": "conclusion_and_visualization",
   "metadata": {},
   "source": [
    "## 5. Conclusion and Visualization\n",
    "\n",
    "The XGBoost Regressor delivered the best performance in this analysis, with an impressive R-squared ($R^2$) score of 0.83.\n",
    "\n",
    "Finally, we visualize the predictions from our best model (XGBoost) against the actual values. A scatter plot where points align closely to a 45-degree line indicates good model performance."
   ]
  },
  {
   "cell_type": "code",
   "execution_count": 265,
   "id": "visualize_predictions",
   "metadata": {},
   "outputs": [
    {
     "data": {
      "image/png": "[encoded data removed]",
      "text/plain": [
       "<Figure size 640x480 with 1 Axes>"
      ]
     },
     "metadata": {},
     "output_type": "display_data"
    }
   ],
   "source": [
    "plt.figure(figsize=(8, 6))\n",
    "plt.scatter(y_test, xgb_predictions, alpha=0.5)\n",
    "plt.plot([y_test.min(), y_test.max()], [y_test.min(), y_test.max()], 'r--', lw=2)\n",
    "plt.xlabel('Actual Values', fontsize=12)\n",
    "plt.ylabel('Predicted Values', fontsize=12)\n",
    "plt.title('XGBoost: Actual vs. Predicted Housing Values', fontsize=16)\n",
    "plt.grid(True)\n",
    "plt.show()"
   ]
  },
  {
   "cell_type": "markdown",
   "id": "end_of_notebook",
   "metadata": {},
   "source": [
    "The scatter plot shows that the predicted values from the XGBoost model align well with the actual values, indicating a strong predictive capability. This refactored notebook provides a clean, well-organized, and reproducible pipeline for housing price prediction."
   ]
  }
 ],
 "metadata": {
  "kernelspec": {
   "display_name": "Python 3",
   "language": "python",
   "name": "python3"
  },
  "language_info": {
   "codemirror_mode": {
    "name": "ipython",
    "version": 3
   },
   "file_extension": ".py",
   "mimetype": "text/x-python",
   "name": "python",
   "nbconvert_exporter": "python",
   "pygments_lexer": "ipython3",
   "version": "3.9.7"
  }
 },
 "nbformat": 4,
 "nbformat_minor": 5
}
